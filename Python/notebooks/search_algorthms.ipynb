{
 "cells": [
  {
   "cell_type": "code",
   "execution_count": 16,
   "id": "11eb154f",
   "metadata": {},
   "outputs": [],
   "source": [
    "import sys\n",
    "import os\n",
    "sys.path.append(os.path.abspath(\"..\"))"
   ]
  },
  {
   "cell_type": "code",
   "execution_count": 17,
   "id": "28a14fa7",
   "metadata": {},
   "outputs": [],
   "source": [
    "from resources.graph import Graph\n",
    "from resources.edge import Edge\n",
    "from resources.node import Node"
   ]
  },
  {
   "cell_type": "code",
   "execution_count": null,
   "id": "4c9769e0",
   "metadata": {},
   "outputs": [],
   "source": [
    "class BFS:\n",
    "\n",
    "    def __init__(self, graph: Graph, start_node: Node, goal_node: Node) -> None:\n",
    "        \n",
    "        self.graph = graph\n",
    "        self.start_node = start_node\n",
    "        self.goal_node = goal_node\n",
    "        self.visited_path = None\n",
    "        self.distance = None\n",
    "        self.parent = None\n",
    "        \n",
    "        \n",
    "    def show_result(self) -> None:\n",
    "\n",
    "        print(\"print something\")\n",
    "        \n",
    "    def reconstruct_path(self) -> None:\n",
    "        pass\n",
    "    \n",
    "    \n",
    "    def search(self) -> None:\n",
    "\n",
    "        pass\n",
    "        \n",
    "    \n"
   ]
  },
  {
   "cell_type": "code",
   "execution_count": null,
   "id": "7a2b4b23",
   "metadata": {},
   "outputs": [],
   "source": []
  }
 ],
 "metadata": {
  "kernelspec": {
   "display_name": "venv",
   "language": "python",
   "name": "python3"
  },
  "language_info": {
   "codemirror_mode": {
    "name": "ipython",
    "version": 3
   },
   "file_extension": ".py",
   "mimetype": "text/x-python",
   "name": "python",
   "nbconvert_exporter": "python",
   "pygments_lexer": "ipython3",
   "version": "3.11.7"
  }
 },
 "nbformat": 4,
 "nbformat_minor": 5
}
